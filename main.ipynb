{
 "cells": [
  {
   "cell_type": "markdown",
   "metadata": {},
   "source": [
    "# Titanic Data Analysis"
   ]
  },
  {
   "cell_type": "markdown",
   "metadata": {},
   "source": [
    "### Import Data"
   ]
  },
  {
   "cell_type": "code",
   "execution_count": 1,
   "metadata": {
    "collapsed": true
   },
   "outputs": [],
   "source": [
    "import pandas as pd\n",
    "import pylab as P\n",
    "import numpy as np\n",
    "import csv as csv\n",
    "from sklearn.ensemble import RandomForestClassifier\n",
    "from sklearn.metrics import confusion_matrix\n",
    "from sklearn.linear_model import LogisticRegression\n",
    "from sklearn.svm import SVC\n",
    "from sklearn.metrics import accuracy_score\n",
    "from sklearn.metrics import f1_score\n",
    "from sklearn.metrics import mean_absolute_error\n",
    "\n",
    "data = pd.read_csv('Data/titanic_full.csv', header=0)"
   ]
  },
  {
   "cell_type": "markdown",
   "metadata": {},
   "source": [
    "### Data Cleaning"
   ]
  },
  {
   "cell_type": "code",
   "execution_count": 2,
   "metadata": {
    "collapsed": false
   },
   "outputs": [],
   "source": [
    "data['nSex'] = data['sex'].map({'female':0, 'male':1}).astype(int)\n",
    "data['nEmbarked'] = data['embarked'].map({'S':0, 'C':1, 'Q':2})\n",
    "data.loc[(data.nEmbarked.isnull())] = 0\n",
    "data['nFamilySize'] = data['sibsp'] + data['parch']\n",
    "median_ages = np.zeros((2,3))\n",
    "for i in range(0,2):\n",
    "\tfor j in range(0,3):\n",
    "\t\tmedian_ages[i,j] = data[(data['nSex'] == i) & (data['pclass'] == j+1)]['age'].dropna().median()\n",
    "data['nAge'] = data['age']\n",
    "for i in range(0,2):\n",
    "\tfor j in range(0,3):\n",
    "\t\tdata.loc[(data.age.isnull()) & (data.nSex == i) & (data.pclass == j+1),'nAge'] = median_ages[i,j]\n",
    "median_fare = np.zeros((1,3))\n",
    "for i in range(0,1):\n",
    "\tfor j in range(0,3):\n",
    "\t\tmedian_fare[i,j] = data[(data['pclass'] == j+1) & (data['fare'] != 0)]['age'].median()\n",
    "data['nFare'] = data['fare']\n",
    "for i in range(0,1):\n",
    "\tfor j in range(0,3):\n",
    "\t\tdata.loc[((data.fare.isnull()) | (data.fare == 0)) & (data.pclass == j+1),'nFare'] = median_fare[i,j]"
   ]
  },
  {
   "cell_type": "markdown",
   "metadata": {},
   "source": [
    "### Creating Model 1 (Random Forrest)"
   ]
  },
  {
   "cell_type": "code",
   "execution_count": 3,
   "metadata": {
    "collapsed": true
   },
   "outputs": [],
   "source": [
    "model1traindata = data[['survived','nSex','nEmbarked','nFamilySize','nAge','nFare','pclass']]\n",
    "model1traindata = model1traindata.astype(int)\n",
    "model1traindata = model1traindata.values\n",
    "\n",
    "model1testdata = data[['nSex','nEmbarked','nFamilySize','nAge','nFare','pclass']]\n",
    "model1testdata = model1testdata.astype(int)\n",
    "model1testdata = model1testdata.values\n",
    "\n",
    "model1forest = RandomForestClassifier(n_estimators = 1300)\n",
    "model1forest = model1forest.fit(model1traindata[0::,1::],model1traindata[0::,0])\n",
    "model1output = pd.DataFrame(model1forest.predict(model1testdata))\n",
    "model1output['nSex'] = data[['nSex']]\n",
    "model1output['nEmbarked'] = data[['nEmbarked']]\n",
    "model1output['pclass'] = data[['pclass']]"
   ]
  },
  {
   "cell_type": "markdown",
   "metadata": {},
   "source": [
    " ### Creating Model 2 (Logistic Regression)"
   ]
  },
  {
   "cell_type": "code",
   "execution_count": 4,
   "metadata": {
    "collapsed": false,
    "scrolled": true
   },
   "outputs": [],
   "source": [
    "model2traindataX = data[['nSex','nEmbarked','nFamilySize','nAge','nFare','pclass']]\n",
    "model2traindataX = model2traindataX.astype(int)\n",
    "model2traindataX = model2traindataX.values\n",
    "model2traindatay = data[['survived']]\n",
    "model2traindatay = np.ravel(model2traindatay)\n",
    "\n",
    "model2testdata = data[['nSex','nEmbarked','nFamilySize','nAge','nFare','pclass']]\n",
    "model2testdata = model2testdata.astype(int)\n",
    "model2testdata = model2testdata.values\n",
    "\n",
    "model2LogisticRegression = LogisticRegression()\n",
    "model2LogisticRegression = model2LogisticRegression.fit(model2traindataX,model2traindatay)\n",
    "model2output = pd.DataFrame(model2LogisticRegression.predict(model2testdata))\n",
    "model2output['nSex'] = data[['nSex']]\n",
    "model2output['nEmbarked'] = data[['nEmbarked']]\n",
    "model2output['pclass'] = data[['pclass']]"
   ]
  },
  {
   "cell_type": "markdown",
   "metadata": {},
   "source": [
    "### Creating Model 3 (Support Vector Machines)  "
   ]
  },
  {
   "cell_type": "code",
   "execution_count": 5,
   "metadata": {
    "collapsed": false
   },
   "outputs": [],
   "source": [
    "model3traindataX = data[['nSex','nEmbarked','nFamilySize','nAge','nFare','pclass']]\n",
    "model3traindataX = model3traindataX.astype(int)\n",
    "model3traindataX = model3traindataX.values\n",
    "model3traindatay = data[['survived']]\n",
    "model3traindatay = np.ravel(model3traindatay)\n",
    "\n",
    "model3testdata = data[['nSex','nEmbarked','nFamilySize','nAge','nFare','pclass']]\n",
    "model3testdata = model3testdata.astype(int)\n",
    "model3testdata = model3testdata.values\n",
    "\n",
    "model3LogisticRegression = SVC()\n",
    "model3LogisticRegression = model3LogisticRegression.fit(model3traindataX,model3traindatay)\n",
    "model3output = pd.DataFrame(model3LogisticRegression.predict(model2testdata))\n",
    "model3output['nSex'] = data[['nSex']]\n",
    "model3output['nEmbarked'] = data[['nEmbarked']]\n",
    "model3output['pclass'] = data[['pclass']]"
   ]
  },
  {
   "cell_type": "markdown",
   "metadata": {},
   "source": [
    "### Model Evaluation"
   ]
  },
  {
   "cell_type": "code",
   "execution_count": 6,
   "metadata": {
    "collapsed": false
   },
   "outputs": [
    {
     "name": "stdout",
     "output_type": "stream",
     "text": [
      "                       model1    model2    model3\n",
      "Accuracy             0.945760  0.791444  0.881589\n",
      "F1 Binary            0.927179  0.711111  0.829857\n",
      "Mean Absolute Error  0.054240  0.208556  0.118411\n"
     ]
    }
   ],
   "source": [
    "actual = data[['survived']]\n",
    "\n",
    "model1 = model1output[0]\n",
    "model2 = model2output[0]\n",
    "model3 = model3output[0]\n",
    "ratioTable = pd.DataFrame({'model1': pd.Series([float(0)], index=['Accuracy','F1 Binary','Mean Absolute Error'])})\n",
    "ratioTable.model1[0] = accuracy_score(actual, model1)\n",
    "ratioTable.model1[1] = f1_score(actual, model1, average='binary')\n",
    "ratioTable.model1[2] = mean_absolute_error(actual, model1)\n",
    "ratioTable['model2'] = float(0)\n",
    "ratioTable.model2[0] = accuracy_score(actual, model2)\n",
    "ratioTable.model2[1] = f1_score(actual, model2, average='binary')\n",
    "ratioTable.model2[2] = mean_absolute_error(actual, model2)\n",
    "ratioTable['model3'] = float(0)\n",
    "ratioTable.model3[0] = accuracy_score(actual, model3)\n",
    "ratioTable.model3[1] = f1_score(actual, model3, average='binary')\n",
    "ratioTable.model3[2] = mean_absolute_error(actual, model3)\n",
    "\n",
    "print ratioTable"
   ]
  },
  {
   "cell_type": "markdown",
   "metadata": {},
   "source": [
    "### Confusion Matrix"
   ]
  },
  {
   "cell_type": "code",
   "execution_count": 7,
   "metadata": {
    "collapsed": false
   },
   "outputs": [
    {
     "name": "stdout",
     "output_type": "stream",
     "text": [
      "Model 1 Confusion Matrix\n",
      "[[786  25]\n",
      " [ 46 452]]\n",
      "Model 2 Confusion Matrix\n",
      "[[700 111]\n",
      " [162 336]]\n",
      "Model 3 Confusion Matrix\n",
      "[[776  35]\n",
      " [120 378]]\n"
     ]
    }
   ],
   "source": [
    "print 'Model 1 Confusion Matrix'\n",
    "print confusion_matrix(actual['survived'], model1output[0])\n",
    "print 'Model 2 Confusion Matrix'\n",
    "print confusion_matrix(actual['survived'], model2output[0])\n",
    "print 'Model 3 Confusion Matrix'\n",
    "print confusion_matrix(actual['survived'], model3output[0])"
   ]
  },
  {
   "cell_type": "markdown",
   "metadata": {},
   "source": [
    "### Print to File"
   ]
  },
  {
   "cell_type": "code",
   "execution_count": 8,
   "metadata": {
    "collapsed": true
   },
   "outputs": [],
   "source": [
    "predictions_file = open(\"model1.csv\", \"wb\")\n",
    "open_file_object = csv.writer(predictions_file)\n",
    "open_file_object.writerow([\"Survived\"])\n",
    "open_file_object.writerows(zip(model1output))\n",
    "predictions_file.close()\n",
    "\n",
    "predictions_file = open(\"model2.csv\", \"wb\")\n",
    "open_file_object = csv.writer(predictions_file)\n",
    "open_file_object.writerow([\"Survived\"])\n",
    "open_file_object.writerows(zip(model2output))\n",
    "predictions_file.close()\n",
    "\n",
    "predictions_file = open(\"model3.csv\", \"wb\")\n",
    "open_file_object = csv.writer(predictions_file)\n",
    "open_file_object.writerow([\"Survived\"])\n",
    "open_file_object.writerows(zip(model3output))\n",
    "predictions_file.close()"
   ]
  }
 ],
 "metadata": {
  "kernelspec": {
   "display_name": "Python 2",
   "language": "python",
   "name": "python2"
  },
  "language_info": {
   "codemirror_mode": {
    "name": "ipython",
    "version": 2
   },
   "file_extension": ".py",
   "mimetype": "text/x-python",
   "name": "python",
   "nbconvert_exporter": "python",
   "pygments_lexer": "ipython2",
   "version": "2.7.10"
  }
 },
 "nbformat": 4,
 "nbformat_minor": 0
}
